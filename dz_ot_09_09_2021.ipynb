{
  "nbformat": 4,
  "nbformat_minor": 0,
  "metadata": {
    "colab": {
      "name": "112_colab.ipynb",
      "provenance": [],
      "collapsed_sections": []
    },
    "kernelspec": {
      "name": "python3",
      "display_name": "Python 3"
    },
    "language_info": {
      "name": "python"
    }
  },
  "cells": [
    {
      "cell_type": "markdown",
      "metadata": {
        "id": "87JfPMU3qepb"
      },
      "source": [
        "Номер билета, ФИО студента, номер группы "
      ]
    },
    {
      "cell_type": "markdown",
      "metadata": {
        "id": "ZQodsYBoqq7T"
      },
      "source": [
        "Задача 1. \n",
        "Пример описания"
      ]
    },
    {
      "cell_type": "code",
      "metadata": {
        "id": "9ZGVY0L2qpTW",
        "outputId": "dd65f277-0cf4-44f7-947e-59f9a6658b2d",
        "colab": {
          "base_uri": "https://localhost:8080/"
        }
      },
      "source": [
        "#поменяйте местами значения двух переменных\n",
        "print (\"Введите два числа, значения которых вы хотите поменять\")\n",
        "a=int(input())\n",
        "b=int(input())\n",
        "c=a\n",
        "d=b\n",
        "print (d)\n",
        "print (c) "
      ],
      "execution_count": 37,
      "outputs": [
        {
          "output_type": "stream",
          "name": "stdout",
          "text": [
            "Введите два числа, значения которых вы хотите поменять\n",
            "4\n",
            "10\n",
            "10\n",
            "4\n"
          ]
        }
      ]
    },
    {
      "cell_type": "code",
      "source": [
        "#дано трехзначное число. Найдите произведение их цифр\n",
        "print (\"Введите трехзначное число\")\n",
        "a=int(input())\n",
        "b=a//100\n",
        "c=a%10\n",
        "d=(a-100*b-c)/10\n",
        "x=b*c*d\n",
        "print (x)"
      ],
      "metadata": {
        "id": "bRcT0YfD3DrD",
        "outputId": "651b64e9-babb-4774-fc8a-bb4f70d721f2",
        "colab": {
          "base_uri": "https://localhost:8080/"
        }
      },
      "execution_count": 38,
      "outputs": [
        {
          "output_type": "stream",
          "name": "stdout",
          "text": [
            "Введите трехзначное число\n",
            "154\n",
            "20.0\n"
          ]
        }
      ]
    },
    {
      "cell_type": "code",
      "source": [
        "#даны два трехзначных числа. Найдите шестизначное число, образованное из двух данных чисел путем дописывания второго числа к первому справа.\n",
        "print ('ведите два трехзначных числа')\n",
        "a=int(input())\n",
        "b=int(input())\n",
        "c=1000*a+b\n",
        "print (c)"
      ],
      "metadata": {
        "id": "7RdBukY43Dy_",
        "outputId": "74de8c2a-8b09-464c-bbbd-8e78104b42bb",
        "colab": {
          "base_uri": "https://localhost:8080/"
        }
      },
      "execution_count": 39,
      "outputs": [
        {
          "output_type": "stream",
          "name": "stdout",
          "text": [
            "ведите два трехзначных числа\n",
            "134\n",
            "345\n",
            "134345\n"
          ]
        }
      ]
    },
    {
      "cell_type": "code",
      "source": [
        "#дано трехзначное число. Замените среднюю цифру на ноль.\n",
        "print (\"Введите трехзначное число\")\n",
        "a=int(input())\n",
        "b=a//100\n",
        "c=a%10\n",
        "x=100*b+c\n",
        "print (x)"
      ],
      "metadata": {
        "id": "3LsG1uJM3D5K",
        "outputId": "9fd4e9d2-999a-4d10-9f1f-33837360dd52",
        "colab": {
          "base_uri": "https://localhost:8080/"
        }
      },
      "execution_count": 40,
      "outputs": [
        {
          "output_type": "stream",
          "name": "stdout",
          "text": [
            "Введите трехзначное число\n",
            "546\n",
            "506\n"
          ]
        }
      ]
    },
    {
      "cell_type": "code",
      "source": [
        "#дано трехзначное число. Выведите на экран новое число, полученное из исходного путем перестановки цифр в обратном порядке.\n",
        "print (\"Введите трехзначное число\")\n",
        "a=int(input())\n",
        "b=a//100\n",
        "c=a%10\n",
        "d=(a-100*b-c)/10\n",
        "x=100*c+b+10*d\n",
        "print (x)"
      ],
      "metadata": {
        "id": "aJbiSokx3GjJ",
        "outputId": "77860ed4-8385-466f-ba94-57406ba851c5",
        "colab": {
          "base_uri": "https://localhost:8080/"
        }
      },
      "execution_count": 41,
      "outputs": [
        {
          "output_type": "stream",
          "name": "stdout",
          "text": [
            "Введите трехзначное число\n",
            "197\n",
            "791.0\n"
          ]
        }
      ]
    },
    {
      "cell_type": "markdown",
      "metadata": {
        "id": "LMWu2wo3q1jn"
      },
      "source": [
        "Задача 2. Пример описания"
      ]
    },
    {
      "cell_type": "code",
      "metadata": {
        "id": "ZBLJNsalqvoM"
      },
      "source": [
        "# Код писать тут"
      ],
      "execution_count": null,
      "outputs": []
    },
    {
      "cell_type": "code",
      "metadata": {
        "id": "ZqoufEKVq3_T"
      },
      "source": [
        ""
      ],
      "execution_count": null,
      "outputs": []
    }
  ]
}